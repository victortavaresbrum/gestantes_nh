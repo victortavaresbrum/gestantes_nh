{
 "cells": [
  {
   "cell_type": "code",
   "execution_count": 13,
   "metadata": {},
   "outputs": [
    {
     "name": "stdout",
     "output_type": "stream",
     "text": [
      "[['Bairro', 'Faixa etária (início gestação)', 'Escolaridade', 'Raça/Cor', 'Covid (Gest. sem esquema completo)', 'Gestantes identificadas'], ['ALPES DO VALE, NOVO HAMBURRGO- RS', '20 a 29 anos', 'SEM INFORMAÇÃO', 'Branca', '0', '2'], ['ALPES DO VALE, NOVO HAMBURRGO- RS', '30 a 60 anos', 'SEM INFORMAÇÃO', 'Branca', '1', '1'], ['ALPES DO VALE, NOVO HAMBURRGO- RS', '30 a 60 anos', '', 'Sem informação', '1', '1'], ['AMIZADE, NOVO HAMBURGO- RS', '10 a 19 anos', 'SEM INFORMAÇÃO', 'Branca', '1', '1'], ['ARROIO DA MANTEIGA, NOVO HAMBURGO-RS', '30 a 60 anos', 'SEM INFORMAÇÃO', 'Branca', '1', '1'], ['BOA  SAUDE, NOVO HAMBURGO-RS', '30 a 60 anos', 'SEM INFORMAÇÃO', 'Amarela', '1', '1'], ['BOA  SAUDE, NOVO HAMBURGO-RS', '10 a 19 anos', 'SEM INFORMAÇÃO', 'Branca', '22', '26'], ['BOA  SAUDE, NOVO HAMBURGO-RS', '10 a 19 anos', '', 'Parda', '0', '1'], ['BOA  SAUDE, NOVO HAMBURGO-RS', '20 a 29 anos', 'SEM INFORMAÇÃO', 'Branca', '0', '79'], ['BOA  SAUDE, NOVO HAMBURGO-RS', '20 a 29 anos', '', 'Preta', '3', '3'], ['BOA  SAUDE, NOVO HAMBURGO-RS', '20 a 29 anos', '', 'Sem informação', '1', '1'], ['BOA  SAUDE, NOVO HAMBURGO-RS', '30 a 60 anos', 'SEM INFORMAÇÃO', 'Branca', '23', '32'], ['BOA  SAUDE, NOVO HAMBURGO-RS', '30 a 60 anos', '', 'Preta', '3', '4'], ['BOA  SAUDE, NOVO HAMBURGO-RS', '30 a 60 anos', '', 'Sem informação', '4', '4'], ['BOA VISTA, NOVO HAMBURGO-RS', '20 a 29 anos', 'SEM INFORMAÇÃO', 'Branca', '1', '2'], ['BOA VISTA, NOVO HAMBURGO-RS', '30 a 60 anos', 'SEM INFORMAÇÃO', 'Branca', '2', '2'], ['CANUDOS, NOVO HAMBURGO-RS', '10 a 19 anos', 'SEM INFORMAÇÃO', 'Amarela', '1', '1'], ['CANUDOS, NOVO HAMBURGO-RS', '10 a 19 anos', '', 'Branca', '51', '69'], ['CANUDOS, NOVO HAMBURGO-RS', '10 a 19 anos', '', 'Preta', '4', '5'], ['CANUDOS, NOVO HAMBURGO-RS', '10 a 19 anos', '', 'Sem informação', '2', '2'], ['CANUDOS, NOVO HAMBURGO-RS', '20 a 29 anos', 'NÍVEL FUNDAMENTAL COMPLETO(1º GRAU COMPLETO)', 'Branca', '1', '1'], ['CANUDOS, NOVO HAMBURGO-RS', '20 a 29 anos', 'NÍVEL FUNDAMENTAL INCOMPLETO(1º GRAU INCOMPLETO)', 'Branca', '0', '1'], ['CANUDOS, NOVO HAMBURGO-RS', '20 a 29 anos', 'SEM INFORMAÇÃO', 'Amarela', '4', '5'], ['CANUDOS, NOVO HAMBURGO-RS', '20 a 29 anos', '', 'Branca', '202', '272'], ['CANUDOS, NOVO HAMBURGO-RS', '20 a 29 anos', '', 'Parda', '0', '1'], ['CANUDOS, NOVO HAMBURGO-RS', '20 a 29 anos', '', 'Preta', '8', '13'], ['CANUDOS, NOVO HAMBURGO-RS', '20 a 29 anos', '', 'Sem informação', '8', '8'], ['CANUDOS, NOVO HAMBURGO-RS', '30 a 60 anos', 'SEM INFORMAÇÃO', 'Amarela', '1', '2'], ['CANUDOS, NOVO HAMBURGO-RS', '30 a 60 anos', '', 'Branca', '112', '148'], ['CANUDOS, NOVO HAMBURGO-RS', '30 a 60 anos', '', 'Preta', '3', '6'], ['CANUDOS, NOVO HAMBURGO-RS', '30 a 60 anos', '', 'Sem informação', '4', '4'], ['CENTRO, NOVO HAMBURGO-RS', '20 a 29 anos', 'SEM INFORMAÇÃO', 'Branca', '1', '2'], ['CENTRO, NOVO HAMBURGO-RS', '20 a 29 anos', '', 'Preta', '1', '2'], ['CENTRO, NOVO HAMBURGO-RS', '30 a 60 anos', 'SEM INFORMAÇÃO', 'Branca', '2', '2'], ['CENTRO, NOVO HAMBURGO-RS', '30 a 60 anos', '', 'Preta', '1', '1'], ['VILA DIEHL, NOVO HAMBURGO-RS', '10 a 19 anos', 'SEM INFORMAÇÃO', 'Branca', '3', '3'], ['VILA DIEHL, NOVO HAMBURGO-RS', '20 a 29 anos', 'SEM INFORMAÇÃO', 'Branca', '4', '9'], ['VILA DIEHL, NOVO HAMBURGO-RS', '30 a 60 anos', 'SEM INFORMAÇÃO', 'Branca', '3', '6'], ['GUARANI, NOVO HAMBURGO-RS', '10 a 19 anos', 'SEM INFORMAÇÃO', 'Preta', '1', '1'], ['GUARANI, NOVO HAMBURGO-RS', '20 a 29 anos', 'SEM INFORMAÇÃO', 'Branca', '1', '2'], ['GUARANI, NOVO HAMBURGO-RS', '20 a 29 anos', '', 'Indígena', '1', '1'], ['GUARANI, NOVO HAMBURGO-RS', '20 a 29 anos', '', 'Sem informação', '1', '1'], ['GUARANI, NOVO HAMBURGO-RS', '30 a 60 anos', 'NÍVEL MÉDIO COMPLETO(2º GRAU COMPLETO)', 'Branca', '1', '1'], ['GUARANI, NOVO HAMBURGO-RS', '30 a 60 anos', 'SEM INFORMAÇÃO', 'Branca', '7', '11'], ['GUARANI, NOVO HAMBURGO-RS', '30 a 60 anos', '', 'Sem informação', '1', '1'], ['HAMBURGO VELHO, NOVO HAMBURGO-RS', '10 a 19 anos', 'SEM INFORMAÇÃO', 'Branca', '1', '1'], ['HAMBURGO VELHO, NOVO HAMBURGO-RS', '20 a 29 anos', 'SEM INFORMAÇÃO', 'Branca', '3', '3'], ['HAMBURGO VELHO, NOVO HAMBURGO-RS', '30 a 60 anos', 'SEM INFORMAÇÃO', 'Branca', '3', '5'], ['IDEAL, NOVO HAMBURGO-RS', '10 a 19 anos', 'SEM INFORMAÇÃO', 'Branca', '1', '1'], ['IDEAL, NOVO HAMBURGO-RS', '20 a 29 anos', 'SEM INFORMAÇÃO', 'Amarela', '1', '1'], ['IDEAL, NOVO HAMBURGO-RS', '20 a 29 anos', '', 'Branca', '8', '8'], ['IDEAL, NOVO HAMBURGO-RS', '30 a 60 anos', 'SEM INFORMAÇÃO', 'Branca', '5', '7'], ['IDEAL, NOVO HAMBURGO-RS', '30 a 60 anos', '', 'Preta', '1', '1'], ['INDUSTRIAL, NOVO HAMBURGO-RS', '10 a 19 anos', 'SEM INFORMAÇÃO', 'Branca', '5', '5'], ['INDUSTRIAL, NOVO HAMBURGO-RS', '20 a 29 anos', 'SEM INFORMAÇÃO', 'Branca', '16', '18'], ['INDUSTRIAL, NOVO HAMBURGO-RS', '20 a 29 anos', '', 'Preta', '1', '1'], ['INDUSTRIAL, NOVO HAMBURGO-RS', '30 a 60 anos', 'SEM INFORMAÇÃO', 'Branca', '5', '7'], ['INDUSTRIAL, NOVO HAMBURGO-RS', '30 a 60 anos', '', 'Sem informação', '1', '1'], ['INTERIOR, NOVO HAMBURGO-RS', '20 a 29 anos', 'SEM INFORMAÇÃO', 'Preta', '1', '1'], ['JARDIM MAUA, NOVO HAMBURGO-RS', '10 a 19 anos', 'SEM INFORMAÇÃO', 'Branca', '3', '3'], ['JARDIM MAUA, NOVO HAMBURGO-RS', '20 a 29 anos', 'SEM INFORMAÇÃO', 'Branca', '9', '11'], ['JARDIM MAUA, NOVO HAMBURGO-RS', '20 a 29 anos', '', 'Preta', '0', '1'], ['JARDIM MAUA, NOVO HAMBURGO-RS', '30 a 60 anos', 'SEM INFORMAÇÃO', 'Branca', '4', '9'], ['JARDIM MAUA, NOVO HAMBURGO-RS', '30 a 60 anos', '', 'Preta', '1', '1'], ['LAGO AZUL, NOVO HAMBURGO-RS', '30 a 60 anos', 'SEM INFORMAÇÃO', 'Branca', '1', '1'], ['LIBERDADE, NOVO HAMBURGO-RS', '10 a 19 anos', 'SEM INFORMAÇÃO', 'Branca', '4', '5'], ['LIBERDADE, NOVO HAMBURGO-RS', '10 a 19 anos', '', 'Sem informação', '1', '1'], ['LIBERDADE, NOVO HAMBURGO-RS', '20 a 29 anos', 'SEM INFORMAÇÃO', 'Branca', '31', '42'], ['LIBERDADE, NOVO HAMBURGO-RS', '20 a 29 anos', '', 'Preta', '1', '1'], ['LIBERDADE, NOVO HAMBURGO-RS', '20 a 29 anos', '', 'Sem informação', '1', '2'], ['LIBERDADE, NOVO HAMBURGO-RS', '30 a 60 anos', 'SEM INFORMAÇÃO', 'Branca', '15', '19'], ['LIBERDADE, NOVO HAMBURGO-RS', '30 a 60 anos', '', 'Parda', '1', '1'], ['LIBERDADE, NOVO HAMBURGO-RS', '30 a 60 anos', '', 'Preta', '1', '1'], ['LOMBA GRANDE, NOVO HAMBURGO-RS', '10 a 19 anos', 'SEM INFORMAÇÃO', 'Branca', '4', '5'], ['LOMBA GRANDE, NOVO HAMBURGO-RS', '20 a 29 anos', 'SEM INFORMAÇÃO', 'Branca', '22', '29'], ['LOMBA GRANDE, NOVO HAMBURGO-RS', '20 a 29 anos', '', 'Sem informação', '1', '2'], ['LOMBA GRANDE, NOVO HAMBURGO-RS', '30 a 60 anos', 'SEM INFORMAÇÃO', 'Amarela', '1', '1'], ['LOMBA GRANDE, NOVO HAMBURGO-RS', '30 a 60 anos', '', 'Branca', '15', '19'], ['LOMBA GRANDE, NOVO HAMBURGO-RS', '30 a 60 anos', '', 'Preta', '3', '4'], ['LOMBA GRANDE, NOVO HAMBURGO-RS', '30 a 60 anos', '', 'Sem informação', '1', '1'], ['OPERARIO, NOVO HAMBURGO-RS', '10 a 19 anos', 'SEM INFORMAÇÃO', 'Branca', '2', '2'], ['OPERARIO, NOVO HAMBURGO-RS', '20 a 29 anos', 'SEM INFORMAÇÃO', 'Branca', '6', '8'], ['OPERARIO, NOVO HAMBURGO-RS', '20 a 29 anos', '', 'Preta', '0', '1'], ['OPERARIO, NOVO HAMBURGO-RS', '20 a 29 anos', '', 'Sem informação', '1', '1'], ['OPERARIO, NOVO HAMBURGO-RS', '30 a 60 anos', 'SEM INFORMAÇÃO', 'Branca', '4', '4'], ['OURO BRANCO,NOVO HAMBURGO-RS', '20 a 29 anos', 'SEM INFORMAÇÃO', 'Branca', '3', '3'], ['OURO BRANCO,NOVO HAMBURGO-RS', '20 a 29 anos', '', 'Preta', '1', '1'], ['OURO BRANCO,NOVO HAMBURGO-RS', '30 a 60 anos', 'SEM INFORMAÇÃO', 'Branca', '2', '2'], ['PATRIA NOVA, NOVO HAMBURGO-RS', '20 a 29 anos', 'SEM INFORMAÇÃO', 'Branca', '1', '2'], ['PETROPOLIS, NOVO HAMBURGO-RS', '10 a 19 anos', 'SEM INFORMAÇÃO', 'Branca', '1', '1'], ['PETROPOLIS, NOVO HAMBURGO-RS', '', '', 'Preta', '1', '1'], ['PETROPOLIS, NOVO HAMBURGO-RS', '20 a 29 anos', 'SEM INFORMAÇÃO', 'Branca', '5', '6'], ['PETROPOLIS, NOVO HAMBURGO-RS', '20 a 29 anos', '', 'Preta', '1', '1'], ['PETROPOLIS, NOVO HAMBURGO-RS', '30 a 60 anos', 'SEM INFORMAÇÃO', 'Branca', '2', '3'], ['PETROPOLIS, NOVO HAMBURGO-RS', '', '', 'Sem informação', '1', '1'], ['PRIMAVERA, NOVO HAMBURGO-RS', '10 a 19 anos', 'SEM INFORMAÇÃO', 'Branca', '5', '5'], ['PRIMAVERA, NOVO HAMBURGO-RS', '20 a 29 anos', 'SEM INFORMAÇÃO', 'Amarela', '1', '1'], ['PRIMAVERA, NOVO HAMBURGO-RS', '20 a 29 anos', '', 'Branca', '10', '11'], ['PRIMAVERA, NOVO HAMBURGO-RS', '30 a 60 anos', 'SEM INFORMAÇÃO', 'Amarela', '1', '1'], ['PRIMAVERA, NOVO HAMBURGO-RS', '30 a 60 anos', '', 'Branca', '7', '9'], ['PRIMAVERA, NOVO HAMBURGO-RS', '30 a 60 anos', '', 'Preta', '2', '2'], ['RINCAO, NOVO HOMBURGO-RS', '10 a 19 anos', 'SEM INFORMAÇÃO', 'Branca', '3', '4'], ['RINCAO, NOVO HOMBURGO-RS', '20 a 29 anos', 'SEM INFORMAÇÃO', 'Branca', '5', '12'], ['RINCAO, NOVO HOMBURGO-RS', '20 a 29 anos', '', 'Sem informação', '1', '1'], ['RINCAO, NOVO HOMBURGO-RS', '30 a 60 anos', 'SEM INFORMAÇÃO', 'Branca', '7', '10'], ['RINCAO, NOVO HOMBURGO-RS', '30 a 60 anos', '', 'Sem informação', '1', '1'], ['RINCAO DOS ILHEUS, NOVO HAMBURGO-RS', '30 a 60 anos', 'SEM INFORMAÇÃO', 'Branca', '1', '1'], ['RIO BRANCO, NOVO HAMBURGO-RS', '10 a 19 anos', 'SEM INFORMAÇÃO', 'Branca', '1', '1'], ['RIO BRANCO, NOVO HAMBURGO-RS', '20 a 29 anos', 'SEM INFORMAÇÃO', 'Branca', '2', '2'], ['RIO BRANCO, NOVO HAMBURGO-RS', '20 a 29 anos', '', 'Preta', '1', '1'], ['RIO BRANCO, NOVO HAMBURGO-RS', '20 a 29 anos', '', 'Sem informação', '1', '1'], ['RIO BRANCO, NOVO HAMBURGO-RS', '30 a 60 anos', 'SEM INFORMAÇÃO', 'Branca', '2', '2'], ['RONDONIA, NOVO HAMBURGO-RS', '10 a 19 anos', 'SEM INFORMAÇÃO', 'Amarela', '0', '1'], ['RONDONIA, NOVO HAMBURGO-RS', '', '', 'Branca', '13', '14'], ['RONDONIA, NOVO HAMBURGO-RS', '', '', 'Preta', '1', '1'], ['RONDONIA, NOVO HAMBURGO-RS', '20 a 29 anos', 'SEM INFORMAÇÃO', 'Amarela', '2', '2'], ['RONDONIA, NOVO HAMBURGO-RS', '20 a 29 anos', '', 'Branca', '28', '38'], ['RONDONIA, NOVO HAMBURGO-RS', '20 a 29 anos', '', 'Preta', '1', '1'], ['RONDONIA, NOVO HAMBURGO-RS', '20 a 29 anos', '', 'Sem informação', '2', '2'], ['RONDONIA, NOVO HAMBURGO-RS', '30 a 60 anos', 'SEM INFORMAÇÃO', 'Branca', '20', '26'], ['RONDONIA, NOVO HAMBURGO-RS', '30 a 60 anos', '', 'Preta', '2', '3'], ['ROSELANDIA, NOVO HAMBURGO-RS', '10 a 19 anos', 'SEM INFORMAÇÃO', 'Branca', '15', '17'], ['ROSELANDIA, NOVO HAMBURGO-RS', '20 a 29 anos', 'SEM INFORMAÇÃO', 'Amarela', '1', '1'], ['ROSELANDIA, NOVO HAMBURGO-RS', '20 a 29 anos', '', 'Branca', '38', '51'], ['ROSELANDIA, NOVO HAMBURGO-RS', '20 a 29 anos', '', 'Sem informação', '1', '2'], ['ROSELANDIA, NOVO HAMBURGO-RS', '30 a 60 anos', 'SEM INFORMAÇÃO', 'Amarela', '1', '1'], ['ROSELANDIA, NOVO HAMBURGO-RS', '30 a 60 anos', '', 'Branca', '21', '31'], ['RIO DOS SINOS, NOVO HAMBURGO-RS ', '30 a 60 anos', 'SEM INFORMAÇÃO', 'Branca', '1', '1'], ['SANTO AFONSO, NOVO HAMBURGO-RS', '10 a 19 anos', 'SEM INFORMAÇÃO', 'Amarela', '1', '1'], ['SANTO AFONSO, NOVO HAMBURGO-RS', '', '', 'Branca', '50', '59'], ['SANTO AFONSO, NOVO HAMBURGO-RS', '', '', 'Preta', '1', '2'], ['SANTO AFONSO, NOVO HAMBURGO-RS', '', '', 'Sem informação', '5', '5'], ['SANTO AFONSO, NOVO HAMBURGO-RS', '20 a 29 anos', 'NÍVEL MÉDIO COMPLETO(2º GRAU COMPLETO)', 'Branca', '0', '1'], ['SANTO AFONSO, NOVO HAMBURGO-RS', '20 a 29 anos', 'SEM INFORMAÇÃO', 'Amarela', '2', '2'], ['SANTO AFONSO, NOVO HAMBURGO-RS', '20 a 29 anos', '', 'Branca', '134', '172'], ['SANTO AFONSO, NOVO HAMBURGO-RS', '20 a 29 anos', '', 'Preta', '3', '5'], ['SANTO AFONSO, NOVO HAMBURGO-RS', '20 a 29 anos', '', 'Sem informação', '2', '2'], ['SANTO AFONSO, NOVO HAMBURGO-RS', '30 a 60 anos', 'NÍVEL MÉDIO COMPLETO(2º GRAU COMPLETO)', 'Branca', '0', '1'], ['SANTO AFONSO, NOVO HAMBURGO-RS', '', 'SEM INFORMAÇÃO', 'Amarela', '1', '1'], ['SANTO AFONSO, NOVO HAMBURGO-RS', '', '', 'Branca', '59', '83'], ['SANTO AFONSO, NOVO HAMBURGO-RS', '', '', 'Preta', '2', '3'], ['SANTO AFONSO, NOVO HAMBURGO-RS', '', '', 'Sem informação', '2', '2'], ['SANTOS DUMONT, NOVO HAMBURGO-RS', '10 a 19 anos', 'SEM INFORMAÇÃO', 'Amarela', '1', '1'], ['SANTOS DUMONT, NOVO HAMBURGO-RS', '20 a 29 anos', 'SEM INFORMAÇÃO', 'Preta', '1', '1'], ['SANTOS DUMONT, NOVO HAMBURGO-RS', '30 a 60 anos', 'SEM INFORMAÇÃO', 'Branca', '2', '2'], ['SAO JACO, NOVO HAMBURGO-RS', '30 a 60 anos', 'SEM INFORMAÇÃO', 'Branca', '1', '1'], ['SAO JORGE, NOVO HAMBURGO-RS', '10 a 19 anos', 'SEM INFORMAÇÃO', 'Branca', '10', '12'], ['SAO JORGE, NOVO HAMBURGO-RS', '20 a 29 anos', 'SEM INFORMAÇÃO', 'Branca', '29', '43'], ['SAO JORGE, NOVO HAMBURGO-RS', '', '', 'Preta', '4', '5'], ['SAO JORGE, NOVO HAMBURGO-RS', '30 a 60 anos', 'SEM INFORMAÇÃO', 'Branca', '24', '31'], ['SAO JORGE, NOVO HAMBURGO-RS', '', '', 'Sem informação', '0', '1'], ['SAO JOSE, NOVO HAMBURGO-RS', '10 a 19 anos', 'SEM INFORMAÇÃO', 'Amarela', '2', '2'], ['SAO JOSE, NOVO HAMBURGO-RS', '', '', 'Branca', '16', '23'], ['SAO JOSE, NOVO HAMBURGO-RS', '', '', 'Parda', '1', '1'], ['SAO JOSE, NOVO HAMBURGO-RS', '', '', 'Preta', '1', '1'], ['SAO JOSE, NOVO HAMBURGO-RS', '', '', 'Sem informação', '1', '1'], ['SAO JOSE, NOVO HAMBURGO-RS', '20 a 29 anos', 'NÍVEL MÉDIO COMPLETO(2º GRAU COMPLETO)', 'Branca', '1', '1'], ['SAO JOSE, NOVO HAMBURGO-RS', '20 a 29 anos', 'SEM INFORMAÇÃO', 'Amarela', '2', '2'], ['SAO JOSE, NOVO HAMBURGO-RS', '20 a 29 anos', '', 'Branca', '58', '87'], ['SAO JOSE, NOVO HAMBURGO-RS', '20 a 29 anos', '', 'Preta', '2', '2'], ['SAO JOSE, NOVO HAMBURGO-RS', '20 a 29 anos', '', 'Sem informação', '1', '1'], ['SAO JOSE, NOVO HAMBURGO-RS', '30 a 60 anos', 'NÍVEL MÉDIO COMPLETO(2º GRAU COMPLETO)', 'Branca', '0', '1'], ['SAO JOSE, NOVO HAMBURGO-RS', '', 'SEM INFORMAÇÃO', 'Amarela', '2', '3'], ['SAO JOSE, NOVO HAMBURGO-RS', '', '', 'Branca', '26', '45'], ['SAO JOSE, NOVO HAMBURGO-RS', '', '', 'Parda', '0', '1'], ['SAO JOSE, NOVO HAMBURGO-RS', '', '', 'Preta', '3', '3'], ['SOL NASCENTE, NOVO HAMBURGO-RS', '10 a 19 anos', 'SEM INFORMAÇÃO', 'Branca', '1', '1'], ['SOL NASCENTE, NOVO HAMBURGO-RS', '20 a 29 anos', 'SEM INFORMAÇÃO', 'Sem informação', '1', '1'], ['VILA NOVA, NOVO HAMBURGO-RS ', '10 a 19 anos', 'SEM INFORMAÇÃO', 'Branca', '1', '1'], ['VILA NOVA, NOVO HAMBURGO-RS', '20 a 29 anos', 'SEM INFORMAÇÃO', 'Branca', '13', '15'], ['VILA NOVA, NOVO HAMBURGO-RS', '30 a 60 anos', 'SEM INFORMAÇÃO', 'Amarela', '0', '1'], ['VILA NOVA, NOVO HAMBURGO-RS', '', '', 'Branca', '5', '7'], ['VILA ROSA, NOVO HAMBURGO-RS', '20 a 29 anos', 'SEM INFORMAÇÃO', 'Branca', '1', '3'], ['VILA ROSA, NOVO HAMBURGO-RS', '30 a 60 anos', 'SEM INFORMAÇÃO', 'Branca', '0', '2'], ['Totais', 'Totais', 'Totais', 'Totais', '1.428', '1.896']]\n"
     ]
    }
   ],
   "source": [
    "import os.path\n",
    "from google.auth.transport.requests import Request\n",
    "from google.oauth2.credentials import Credentials\n",
    "from google_auth_oauthlib.flow import InstalledAppFlow\n",
    "from googleapiclient.discovery import build\n",
    "from googleapiclient.errors import HttpError\n",
    "\n",
    "# If modifying these scopes, delete the file token.json.\n",
    "SCOPES = [\"https://www.googleapis.com/auth/spreadsheets\"]\n",
    "\n",
    "\n",
    "\n",
    "def main():\n",
    "  \"\"\"Shows basic usage of the Sheets API.\n",
    "  Prints values from a sample spreadsheet.\n",
    "  \"\"\"\n",
    "  creds = None\n",
    "  # The file token.json stores the user's access and refresh tokens, and is\n",
    "  # created automatically when the authorization flow completes for the first\n",
    "  # time.\n",
    "  if os.path.exists(\"token.json\"):\n",
    "    creds = Credentials.from_authorized_user_file(\"token.json\", SCOPES)\n",
    "  # If there are no (valid) credentials available, let the user log in.\n",
    "  if not creds or not creds.valid:\n",
    "    if creds and creds.expired and creds.refresh_token:\n",
    "      creds.refresh(Request())\n",
    "    else:\n",
    "      flow = InstalledAppFlow.from_client_secrets_file(\n",
    "          \"client_secret.json\", SCOPES\n",
    "      )\n",
    "      creds = flow.run_local_server(port=0)\n",
    "    # Save the credentials for the next run\n",
    "    with open(\"token.json\", \"w\") as token:\n",
    "      token.write(creds.to_json())\n",
    "\n",
    "  try:\n",
    "    service = build(\"sheets\", \"v4\", credentials=creds)\n",
    "\n",
    "    # Call the Sheets API\n",
    "    sheet = service.spreadsheets()\n",
    "    result = (\n",
    "        sheet.values()\n",
    "        .get(spreadsheetId=\"1OlIG4WKeWI0hRMXjs8ECCZk6ht1DTdDdbUCUGR_Lwec\", range=\"page1!A2:F177\")\n",
    "        .execute()\n",
    "    )\n",
    "    values = result.get(\"values\", [])\n",
    "\n",
    "    \n",
    "    print(values)\n",
    "\n",
    "  except HttpError as err:\n",
    "    print(err)\n",
    "\n",
    "\n",
    "if __name__ == \"__main__\":\n",
    "  main()"
   ]
  },
  {
   "cell_type": "code",
   "execution_count": null,
   "metadata": {},
   "outputs": [],
   "source": []
  }
 ],
 "metadata": {
  "kernelspec": {
   "display_name": "flaskenv",
   "language": "python",
   "name": "python3"
  },
  "language_info": {
   "codemirror_mode": {
    "name": "ipython",
    "version": 3
   },
   "file_extension": ".py",
   "mimetype": "text/x-python",
   "name": "python",
   "nbconvert_exporter": "python",
   "pygments_lexer": "ipython3",
   "version": "3.11.5"
  }
 },
 "nbformat": 4,
 "nbformat_minor": 2
}
